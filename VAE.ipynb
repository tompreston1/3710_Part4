{
 "cells": [
  {
   "cell_type": "markdown",
   "id": "c624c7be",
   "metadata": {},
   "source": [
    "4.1: VAE"
   ]
  },
  {
   "cell_type": "code",
   "execution_count": null,
   "id": "f3ac11a4",
   "metadata": {},
   "outputs": [],
   "source": [
    "import torch"
   ]
  },
  {
   "cell_type": "code",
   "execution_count": null,
   "id": "2bbe8a14",
   "metadata": {},
   "outputs": [],
   "source": [
    "# Device configuration\n",
    "device = torch.device('cuda' if torch.cuda.is_available() else 'cpu')\n",
    "if not torch.cuda.is_available():\n",
    "    print(\"Warning CUDA not Found. Using CPU\")\n",
    "\n",
    "# Hyper-parameters\n",
    "num_epochs = 8\n",
    "learning_rate = 1e-3"
   ]
  }
 ],
 "metadata": {
  "kernelspec": {
   "display_name": "comp3710",
   "language": "python",
   "name": "python3"
  },
  "language_info": {
   "name": "python",
   "version": "3.9.23"
  }
 },
 "nbformat": 4,
 "nbformat_minor": 5
}
