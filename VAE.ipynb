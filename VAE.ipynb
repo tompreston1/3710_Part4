{
 "cells": [
  {
   "cell_type": "markdown",
   "id": "c624c7be",
   "metadata": {},
   "source": [
    "4.1: VAE"
   ]
  },
  {
   "cell_type": "code",
   "execution_count": null,
   "id": "f3ac11a4",
   "metadata": {},
   "outputs": [],
   "source": [
    "import torch\n",
    "import torchvision.transforms as transforms\n",
    "import os\n",
    "from PIL import Image\n",
    "from torch.utils.data import Dataset, DataLoader\n",
    "from torchvision import transforms"
   ]
  },
  {
   "cell_type": "code",
   "execution_count": null,
   "id": "2bbe8a14",
   "metadata": {},
   "outputs": [],
   "source": [
    "# Device configuration\n",
    "device = torch.device('cuda' if torch.cuda.is_available() else 'cpu')\n",
    "if not torch.cuda.is_available():\n",
    "    print(\"Warning CUDA not Found. Using CPU\")\n",
    "\n",
    "# Hyper-parameters\n",
    "num_epochs = 8\n",
    "learning_rate = 1e-3"
   ]
  },
  {
   "cell_type": "code",
   "execution_count": null,
   "id": "a28ae319",
   "metadata": {},
   "outputs": [],
   "source": [
    "class MRIDataset(Dataset):\n",
    "    def __init__(self, img_dir, transform=None):\n",
    "        self.img_dir = img_dir\n",
    "        self.img_files = [f for f in os.listdir(img_dir) if f.endswith(\".png\")]\n",
    "        self.transform = transform\n",
    "\n",
    "    def __len__(self):\n",
    "        return len(self.img_files)\n",
    "\n",
    "    def __getitem__(self, idx):\n",
    "        img_path = os.path.join(self.img_dir, self.img_files[idx])\n",
    "        image = Image.open(img_path).convert(\"L\")  # grayscale\n",
    "        if self.transform:\n",
    "            image = self.transform(image)\n",
    "        return image, 0 # Return image and a dummy label\n",
    "# Define preprocessing\n",
    "transform = transforms.Compose([\n",
    "    transforms.Resize((128, 128)),\n",
    "    transforms.ToTensor(),\n",
    "])\n",
    "\n",
    "# Example usage: replace with your train/val/test folders\n",
    "train_dir = \"/content/data/keras_png_slices_data/keras_png_slices_train\"\n",
    "val_dir   = \"/content/data/keras_png_slices_data/keras_png_slices_validate\"\n",
    "test_dir  = \"/content/data/keras_png_slices_data/keras_png_slices_test\"\n",
    "\n",
    "trainset = MRIDataset(train_dir, transform=transform)\n",
    "valset   = MRIDataset(val_dir, transform=transform)\n",
    "testset  = MRIDataset(test_dir, transform=transform)\n",
    "\n",
    "train_loader = DataLoader(trainset, batch_size=64, shuffle=True)\n",
    "val_loader   = DataLoader(valset, batch_size=64, shuffle=False)\n",
    "test_loader  = DataLoader(testset, batch_size=64, shuffle=False)\n",
    "\n",
    "print(f\"Train: {len(trainset)}, Val: {len(valset)}, Test: {len(testset)}\")"
   ]
  }
 ],
 "metadata": {
  "kernelspec": {
   "display_name": "comp3710",
   "language": "python",
   "name": "python3"
  },
  "language_info": {
   "name": "python",
   "version": "3.9.23"
  }
 },
 "nbformat": 4,
 "nbformat_minor": 5
}
